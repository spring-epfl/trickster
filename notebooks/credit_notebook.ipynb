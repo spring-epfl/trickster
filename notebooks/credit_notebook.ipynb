{
 "cells": [
  {
   "cell_type": "code",
   "execution_count": 1,
   "metadata": {},
   "outputs": [],
   "source": [
    "%load_ext  autoreload\n",
    "%autoreload 2"
   ]
  },
  {
   "cell_type": "code",
   "execution_count": 8,
   "metadata": {},
   "outputs": [],
   "source": [
    "import sys\n",
    "sys.path.append('..')\n",
    "\n",
    "# Ignore warnings.\n",
    "import warnings\n",
    "warnings.filterwarnings('ignore')\n",
    "\n",
    "# Handle library imports.\n",
    "import numpy as np\n",
    "import pandas as pd\n",
    "\n",
    "from trickster.adversarial_helper import *\n",
    "from trickster.expansion import *\n",
    "from sklearn.linear_model import LogisticRegressionCV"
   ]
  },
  {
   "cell_type": "code",
   "execution_count": 3,
   "metadata": {},
   "outputs": [],
   "source": [
    "# Handle global variables.\n",
    "SEED = 2018\n",
    "np.random.seed(seed=SEED)"
   ]
  },
  {
   "cell_type": "code",
   "execution_count": 4,
   "metadata": {},
   "outputs": [],
   "source": [
    "# Define experiment helper functions.\n",
    "def load_transform_data_fn(data_file, bins, **kwargs):\n",
    "    '''Description goes here.'''\n",
    "    # Load the file\n",
    "    df = pd.read_csv(data_file)\n",
    "\n",
    "    # Remove the index column.\n",
    "    df = df.drop(df.columns[0], axis=1)\n",
    "\n",
    "    # Quantize credit amount, duration and age.\n",
    "    features_to_quantize = ['Credit amount', 'Duration', 'Age']\n",
    "    for feat in features_to_quantize:\n",
    "        series = df.loc[:, feat]\n",
    "        df.loc[:, feat] = pd.qcut(series, bins, duplicates='drop')\n",
    "\n",
    "    # Set Job type to object for one-hot encoding\n",
    "    df.loc[:, 'Job'] = df.loc[:, 'Job'].astype(object)\n",
    "\n",
    "    # Perform one-hot encoding\n",
    "    df = pd.get_dummies(df)\n",
    "    # Drop binary features\n",
    "    df = df.drop(columns=['Sex_male', 'Risk_bad'])\n",
    "\n",
    "    # Separate features from targets\n",
    "    df_X = df.iloc[:, :-1]\n",
    "    df_y = df.iloc[:, -1]\n",
    "\n",
    "    # Convert to numpy.\n",
    "    X = df_X.values.astype('float')\n",
    "    y = df_y.values.astype('float')\n",
    "\n",
    "    return X, y, df_X.columns\n",
    "\n",
    "def clf_fit_fn(X_train, y_train, **kwargs):\n",
    "    '''Fit logistic regression by performing a Grid Search with Cross Validation.'''\n",
    "    Cs = np.arange(0.1, 2, 0.025)\n",
    "    class_weight = None # balanced or None\n",
    "    scoring = 'f1' # accuracy, f1 or roc_auc\n",
    "\n",
    "    clf = LogisticRegressionCV(\n",
    "        Cs=Cs,\n",
    "        cv=5,\n",
    "        n_jobs=-1,\n",
    "        penalty='l2',\n",
    "        scoring=scoring,\n",
    "        class_weight=class_weight,\n",
    "        random_state=SEED\n",
    "    )\n",
    "\n",
    "    clf.fit(X_train, y_train)\n",
    "    return clf\n",
    "\n",
    "def get_expansions_fn(features, expand_quantized_fn, **kwargs):\n",
    "    '''Add description here.'''\n",
    "\n",
    "    # Find indexes of required features in the original feature space.\n",
    "    idxs_credit = find_substring_occurences(features, 'Credit amount')\n",
    "    idxs_duration = find_substring_occurences(features, 'Duration')\n",
    "    idxs_purpose = find_substring_occurences(features, 'Purpose')\n",
    "\n",
    "    # Concatenate indexes of transformable features.\n",
    "    transformable_feature_idxs = sorted(idxs_credit + idxs_duration + idxs_purpose)\n",
    "    reduced_features = features[transformable_feature_idxs]\n",
    "\n",
    "    # Find indexes of required features in the reduced feature space.\n",
    "    idxs_credit = find_substring_occurences(reduced_features, 'Credit amount')\n",
    "    idxs_duration = find_substring_occurences(reduced_features, 'Duration')\n",
    "    idxs_purpose = find_substring_occurences(reduced_features, 'Purpose')\n",
    "\n",
    "    # Set required expansions for features in the reduced feature space.\n",
    "    expansions = [\n",
    "        (idxs_credit, expand_quantized_fn),\n",
    "        (idxs_duration, expand_quantized_fn),\n",
    "        (idxs_purpose, expand_categorical)\n",
    "    ]\n",
    "\n",
    "    return expansions, transformable_feature_idxs\n",
    "\n",
    "def benchmark_search_fn(**kwargs):\n",
    "    '''Perform BFS adversarial example search to benchmark against A* search.'''\n",
    "    heuristic_fn = lambda x, clf, epsilon, zero_to_one, q_norm: 0\n",
    "    results = adversarial_search(heuristic_fn=heuristic_fn, **kwargs)\n",
    "    return results"
   ]
  },
  {
   "cell_type": "code",
   "execution_count": 30,
   "metadata": {
    "scrolled": true
   },
   "outputs": [],
   "source": [
    "def run_experiment(bins, p_norm, q_norm):\n",
    "    # Define dataset location.\n",
    "    data_file = '../data/german_credit_data.csv'\n",
    "    \n",
    "    # Perform the experiment.\n",
    "    result = experiment_wrapper(\n",
    "        load_transform_data_fn=load_transform_data_fn,\n",
    "        data_file=data_file,\n",
    "        bins=bins,\n",
    "        p_norm=p_norm,\n",
    "        q_norm=q_norm,\n",
    "        clf_fit_fn=clf_fit_fn,\n",
    "        get_expansions_fn=get_expansions_fn,\n",
    "        expand_quantized_fn=expand_quantized,\n",
    "        benchmark_search_fn=benchmark_search_fn,\n",
    "        target_confidence=0.5,\n",
    "        zero_to_one=True,\n",
    "        random_state=SEED\n",
    "    )\n",
    "\n",
    "    ast_expanded = result['search_results']['nodes_expanded']\n",
    "    bfs_expanded = result['benchmark_results']['nodes_expanded']\n",
    "    ast_runtime = result['search_results']['runtime']\n",
    "    bfs_runtime = result['benchmark_results']['runtime']\n",
    "\n",
    "    return [(ast_expanded, bfs_expanded), [(ast_runtime, bfs_runtime)]]"
   ]
  },
  {
   "cell_type": "code",
   "execution_count": 31,
   "metadata": {
    "scrolled": true
   },
   "outputs": [
    {
     "name": "stdout",
     "output_type": "stream",
     "text": [
      "Performing experiments for 5 bins.\n"
     ]
    },
    {
     "name": "stderr",
     "output_type": "stream",
     "text": [
      "100%|##########| 135/135 [00:02<00:00, 66.09it/s]\n",
      "100%|##########| 135/135 [00:01<00:00, 81.56it/s]\n"
     ]
    },
    {
     "name": "stdout",
     "output_type": "stream",
     "text": [
      "Performing experiments for 10 bins.\n"
     ]
    },
    {
     "name": "stderr",
     "output_type": "stream",
     "text": [
      "100%|##########| 122/122 [00:02<00:00, 43.73it/s]\n",
      "100%|##########| 122/122 [00:02<00:00, 47.88it/s]\n"
     ]
    },
    {
     "name": "stdout",
     "output_type": "stream",
     "text": [
      "Performing experiments for 15 bins.\n"
     ]
    },
    {
     "name": "stderr",
     "output_type": "stream",
     "text": [
      "100%|##########| 126/126 [00:02<00:00, 50.80it/s]\n",
      "100%|##########| 126/126 [00:02<00:00, 60.84it/s]\n"
     ]
    },
    {
     "name": "stdout",
     "output_type": "stream",
     "text": [
      "Performing experiments for 20 bins.\n"
     ]
    },
    {
     "name": "stderr",
     "output_type": "stream",
     "text": [
      "100%|##########| 137/137 [00:03<00:00, 43.27it/s]\n",
      "100%|##########| 137/137 [00:02<00:00, 46.63it/s]\n"
     ]
    },
    {
     "name": "stdout",
     "output_type": "stream",
     "text": [
      "Performing experiments for 25 bins.\n"
     ]
    },
    {
     "name": "stderr",
     "output_type": "stream",
     "text": [
      "100%|##########| 131/131 [00:02<00:00, 47.20it/s]\n",
      "100%|##########| 131/131 [00:02<00:00, 55.64it/s]\n"
     ]
    },
    {
     "name": "stdout",
     "output_type": "stream",
     "text": [
      "Performing experiments for 30 bins.\n"
     ]
    },
    {
     "name": "stderr",
     "output_type": "stream",
     "text": [
      "100%|##########| 122/122 [00:02<00:00, 44.34it/s]\n",
      "100%|##########| 122/122 [00:02<00:00, 49.18it/s]\n"
     ]
    },
    {
     "name": "stdout",
     "output_type": "stream",
     "text": [
      "Performing experiments for 35 bins.\n"
     ]
    },
    {
     "name": "stderr",
     "output_type": "stream",
     "text": [
      "100%|##########| 124/124 [00:02<00:00, 54.12it/s]\n",
      "100%|##########| 124/124 [00:01<00:00, 64.12it/s]\n"
     ]
    },
    {
     "name": "stdout",
     "output_type": "stream",
     "text": [
      "Performing experiments for 40 bins.\n"
     ]
    },
    {
     "name": "stderr",
     "output_type": "stream",
     "text": [
      "100%|##########| 123/123 [00:02<00:00, 51.38it/s]\n",
      "100%|##########| 123/123 [00:02<00:00, 58.02it/s]\n"
     ]
    },
    {
     "name": "stdout",
     "output_type": "stream",
     "text": [
      "Performing experiments for 45 bins.\n"
     ]
    },
    {
     "name": "stderr",
     "output_type": "stream",
     "text": [
      "100%|##########| 122/122 [00:02<00:00, 45.64it/s]\n",
      "100%|##########| 122/122 [00:02<00:00, 51.88it/s]\n"
     ]
    },
    {
     "name": "stdout",
     "output_type": "stream",
     "text": [
      "Performing experiments for 50 bins.\n"
     ]
    },
    {
     "name": "stderr",
     "output_type": "stream",
     "text": [
      "100%|##########| 152/152 [00:03<00:00, 47.72it/s]\n",
      "100%|##########| 152/152 [00:02<00:00, 55.84it/s]\n"
     ]
    },
    {
     "name": "stdout",
     "output_type": "stream",
     "text": [
      "Performing experiments for 55 bins.\n"
     ]
    },
    {
     "name": "stderr",
     "output_type": "stream",
     "text": [
      "100%|##########| 121/121 [00:02<00:00, 45.14it/s]\n",
      "100%|##########| 121/121 [00:02<00:00, 52.43it/s]\n"
     ]
    },
    {
     "name": "stdout",
     "output_type": "stream",
     "text": [
      "Performing experiments for 60 bins.\n"
     ]
    },
    {
     "name": "stderr",
     "output_type": "stream",
     "text": [
      "100%|##########| 122/122 [00:02<00:00, 45.20it/s]\n",
      "100%|##########| 122/122 [00:02<00:00, 52.10it/s]\n"
     ]
    },
    {
     "name": "stdout",
     "output_type": "stream",
     "text": [
      "Performing experiments for 65 bins.\n"
     ]
    },
    {
     "name": "stderr",
     "output_type": "stream",
     "text": [
      "100%|##########| 124/124 [00:02<00:00, 46.76it/s]\n",
      "100%|##########| 124/124 [00:02<00:00, 53.77it/s]\n"
     ]
    },
    {
     "name": "stdout",
     "output_type": "stream",
     "text": [
      "Performing experiments for 70 bins.\n"
     ]
    },
    {
     "name": "stderr",
     "output_type": "stream",
     "text": [
      "100%|##########| 120/120 [00:02<00:00, 43.15it/s]\n",
      "100%|##########| 120/120 [00:02<00:00, 50.40it/s]\n"
     ]
    },
    {
     "name": "stdout",
     "output_type": "stream",
     "text": [
      "Performing experiments for 75 bins.\n"
     ]
    },
    {
     "name": "stderr",
     "output_type": "stream",
     "text": [
      "100%|##########| 168/168 [00:04<00:00, 40.58it/s]\n",
      "100%|##########| 168/168 [00:03<00:00, 49.14it/s]\n"
     ]
    },
    {
     "name": "stdout",
     "output_type": "stream",
     "text": [
      "Performing experiments for 80 bins.\n"
     ]
    },
    {
     "name": "stderr",
     "output_type": "stream",
     "text": [
      "100%|##########| 121/121 [00:02<00:00, 44.74it/s]\n",
      "100%|##########| 121/121 [00:02<00:00, 52.88it/s]\n"
     ]
    },
    {
     "name": "stdout",
     "output_type": "stream",
     "text": [
      "Performing experiments for 85 bins.\n"
     ]
    },
    {
     "name": "stderr",
     "output_type": "stream",
     "text": [
      "100%|##########| 119/119 [00:02<00:00, 40.96it/s]\n",
      "100%|##########| 119/119 [00:02<00:00, 48.91it/s]\n"
     ]
    },
    {
     "name": "stdout",
     "output_type": "stream",
     "text": [
      "Performing experiments for 90 bins.\n"
     ]
    },
    {
     "name": "stderr",
     "output_type": "stream",
     "text": [
      "100%|##########| 121/121 [00:03<00:00, 37.11it/s]\n",
      "100%|##########| 121/121 [00:02<00:00, 42.43it/s]\n"
     ]
    },
    {
     "name": "stdout",
     "output_type": "stream",
     "text": [
      "Performing experiments for 95 bins.\n"
     ]
    },
    {
     "name": "stderr",
     "output_type": "stream",
     "text": [
      "100%|##########| 123/123 [00:03<00:00, 37.65it/s]\n",
      "100%|##########| 123/123 [00:02<00:00, 44.33it/s]\n"
     ]
    },
    {
     "name": "stdout",
     "output_type": "stream",
     "text": [
      "Performing experiments for 100 bins.\n"
     ]
    },
    {
     "name": "stderr",
     "output_type": "stream",
     "text": [
      "100%|##########| 118/118 [00:02<00:00, 42.57it/s]\n",
      "100%|##########| 118/118 [00:02<00:00, 50.40it/s]\n"
     ]
    }
   ],
   "source": [
    "# Define experiment parameters.\n",
    "bin_counts = np.arange(5, 101, 5)\n",
    "p_norm = 1\n",
    "q_norm = np.inf\n",
    "\n",
    "results = []\n",
    "\n",
    "for bins in bin_counts:\n",
    "    print('Performing experiments for {} bins.'.format(bins))\n",
    "    expanded_stats, runtime_stats = run_experiment(bins=bins, p_norm=p_norm, q_norm=q_norm)\n",
    "    results.append((bins, expanded_stats, runtime_stats))"
   ]
  },
  {
   "cell_type": "code",
   "execution_count": 34,
   "metadata": {},
   "outputs": [
    {
     "name": "stdout",
     "output_type": "stream",
     "text": [
      "For 5 bins percentage decrease is: 6.04 and performance improvement is: 9.07.\n",
      "For 10 bins percentage decrease is: 8.81 and performance improvement is: 13.25.\n",
      "For 15 bins percentage decrease is: 11.18 and performance improvement is: 18.45.\n",
      "For 20 bins percentage decrease is: 11.12 and performance improvement is: 19.27.\n",
      "For 25 bins percentage decrease is: 10.58 and performance improvement is: 17.63.\n",
      "For 30 bins percentage decrease is: 10.01 and performance improvement is: 17.12.\n",
      "For 35 bins percentage decrease is: 8.66 and performance improvement is: 14.46.\n",
      "For 40 bins percentage decrease is: 11.19 and performance improvement is: 19.13.\n",
      "For 45 bins percentage decrease is: 9.98 and performance improvement is: 17.46.\n",
      "For 50 bins percentage decrease is: 7.92 and performance improvement is: 12.78.\n",
      "For 55 bins percentage decrease is: 7.19 and performance improvement is: 11.69.\n",
      "For 60 bins percentage decrease is: 9.34 and performance improvement is: 16.15.\n",
      "For 65 bins percentage decrease is: 9.93 and performance improvement is: 17.81.\n",
      "For 70 bins percentage decrease is: 8.72 and performance improvement is: 14.89.\n",
      "For 75 bins percentage decrease is: 10.06 and performance improvement is: 18.46.\n",
      "For 80 bins percentage decrease is: 7.18 and performance improvement is: 11.29.\n",
      "For 85 bins percentage decrease is: 6.22 and performance improvement is: 9.42.\n",
      "For 90 bins percentage decrease is: 8.55 and performance improvement is: 13.26.\n",
      "For 95 bins percentage decrease is: 7.50 and performance improvement is: 12.05.\n",
      "For 100 bins percentage decrease is: 5.94 and performance improvement is: 9.47.\n"
     ]
    }
   ],
   "source": [
    "def percentage_change(new, old):\n",
    "    # Compute percentage change. \n",
    "    return ((new - old) / old) * 100\n",
    "\n",
    "def performance_change(new, old):\n",
    "    # Compute percentage change. \n",
    "    return ((old - new) / new) * 100\n",
    "\n",
    "for result in results:\n",
    "    bins, expanded_stats, runtime_stats = result\n",
    "    percentage = -percentage_change(expanded_stats[0], expanded_stats[1]).mean()\n",
    "    performance = performance_change(expanded_stats[0], expanded_stats[1]).mean()\n",
    "    \n",
    "    print('For {} bins percentage decrease is: {:.2f} and performance improvement is: {:.2f}.'\n",
    "         .format(bins, percentage, performance))"
   ]
  }
 ],
 "metadata": {
  "kernelspec": {
   "display_name": "Python 3",
   "language": "python",
   "name": "python3"
  },
  "language_info": {
   "codemirror_mode": {
    "name": "ipython",
    "version": 3
   },
   "file_extension": ".py",
   "mimetype": "text/x-python",
   "name": "python",
   "nbconvert_exporter": "python",
   "pygments_lexer": "ipython3",
   "version": "3.6.5"
  }
 },
 "nbformat": 4,
 "nbformat_minor": 2
}
